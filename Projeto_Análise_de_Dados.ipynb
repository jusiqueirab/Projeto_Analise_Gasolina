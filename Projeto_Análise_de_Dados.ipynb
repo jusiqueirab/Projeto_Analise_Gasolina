{
  "nbformat": 4,
  "nbformat_minor": 0,
  "metadata": {
    "colab": {
      "name": "Projeto Análise de Dados.ipynb",
      "provenance": [],
      "collapsed_sections": [],
      "include_colab_link": true
    },
    "kernelspec": {
      "name": "python3",
      "display_name": "Python 3"
    },
    "language_info": {
      "name": "python"
    }
  },
  "cells": [
    {
      "cell_type": "markdown",
      "metadata": {
        "id": "view-in-github",
        "colab_type": "text"
      },
      "source": [
        "<a href=\"https://colab.research.google.com/github/jusiqueirab/Projeto_Analise_Gasolina/blob/main/Projeto_An%C3%A1lise_de_Dados.ipynb\" target=\"_parent\"><img src=\"https://colab.research.google.com/assets/colab-badge.svg\" alt=\"Open In Colab\"/></a>"
      ]
    },
    {
      "cell_type": "code",
      "execution_count": null,
      "metadata": {
        "id": "Uer6H40eCs6I",
        "colab": {
          "base_uri": "https://localhost:8080/"
        },
        "outputId": "82c6d2a1-af01-4914-d1f6-7eaad3692c0b"
      },
      "outputs": [
        {
          "output_type": "stream",
          "name": "stdout",
          "text": [
            "\n",
            "UNRAR 5.50 freeware      Copyright (c) 1993-2017 Alexander Roshal\n",
            "\n",
            "\n",
            "Extracting from /content/Projeto Analise Gasolina.rar\n",
            "\n",
            "Creating    /content/projeto                                          OK\n",
            "Creating    /content/projeto/gasolina                                 OK\n",
            "Creating    /content/projeto/gasolina/Projeto Analise Gasolina        OK\n",
            "Extracting  /content/projeto/gasolina/Projeto Analise Gasolina/ca-2012-01.csv     \b\b\b\b  0%\b\b\b\b  1%\b\b\b\b  2%\b\b\b\b  3%\b\b\b\b  4%\b\b\b\b  5%\b\b\b\b  6%\b\b\b\b  7%\b\b\b\b  8%\b\b\b\b  9%\b\b\b\b\b  OK \n",
            "Extracting  /content/projeto/gasolina/Projeto Analise Gasolina/ca-2013-01.csv     \b\b\b\b  9%\b\b\b\b 10%\b\b\b\b 11%\b\b\b\b 12%\b\b\b\b 13%\b\b\b\b 14%\b\b\b\b 15%\b\b\b\b 16%\b\b\b\b 17%\b\b\b\b 18%\b\b\b\b\b  OK \n",
            "Extracting  /content/projeto/gasolina/Projeto Analise Gasolina/ca-2013-02.csv     \b\b\b\b 18%\b\b\b\b 19%\b\b\b\b 20%\b\b\b\b 21%\b\b\b\b 22%\b\b\b\b 23%\b\b\b\b 24%\b\b\b\b 25%\b\b\b\b 26%\b\b\b\b 27%\b\b\b\b 28%\b\b\b\b\b  OK \n",
            "Extracting  /content/projeto/gasolina/Projeto Analise Gasolina/ca-2014-01.csv     \b\b\b\b 28%\b\b\b\b 29%\b\b\b\b 30%\b\b\b\b 31%\b\b\b\b 32%\b\b\b\b 33%\b\b\b\b 34%\b\b\b\b 35%\b\b\b\b\b  OK \n",
            "Extracting  /content/projeto/gasolina/Projeto Analise Gasolina/ca-2014-02.csv     \b\b\b\b 35%\b\b\b\b 36%\b\b\b\b 37%\b\b\b\b 38%\b\b\b\b 39%\b\b\b\b 40%\b\b\b\b 41%\b\b\b\b 42%\b\b\b\b 43%\b\b\b\b 44%\b\b\b\b 45%\b\b\b\b\b  OK \n",
            "Extracting  /content/projeto/gasolina/Projeto Analise Gasolina/ca-2015-01.csv     \b\b\b\b 45%\b\b\b\b 46%\b\b\b\b 47%\b\b\b\b 48%\b\b\b\b 49%\b\b\b\b 50%\b\b\b\b 51%\b\b\b\b 52%\b\b\b\b 53%\b\b\b\b 54%\b\b\b\b\b  OK \n",
            "Extracting  /content/projeto/gasolina/Projeto Analise Gasolina/ca-2015-02.csv     \b\b\b\b 54%\b\b\b\b 55%\b\b\b\b 56%\b\b\b\b 57%\b\b\b\b 58%\b\b\b\b\b  OK \n",
            "Extracting  /content/projeto/gasolina/Projeto Analise Gasolina/ca-2016-01.csv     \b\b\b\b 58%\b\b\b\b 59%\b\b\b\b 60%\b\b\b\b 61%\b\b\b\b 62%\b\b\b\b\b  OK \n",
            "Extracting  /content/projeto/gasolina/Projeto Analise Gasolina/ca-2016-02.csv     \b\b\b\b 62%\b\b\b\b 63%\b\b\b\b 64%\b\b\b\b 65%\b\b\b\b 66%\b\b\b\b\b  OK \n",
            "Extracting  /content/projeto/gasolina/Projeto Analise Gasolina/ca-2017-01.csv     \b\b\b\b 66%\b\b\b\b 67%\b\b\b\b 68%\b\b\b\b 69%\b\b\b\b\b  OK \n",
            "Extracting  /content/projeto/gasolina/Projeto Analise Gasolina/ca-2017-02.csv     \b\b\b\b 69%\b\b\b\b 70%\b\b\b\b 71%\b\b\b\b 72%\b\b\b\b\b  OK \n",
            "Extracting  /content/projeto/gasolina/Projeto Analise Gasolina/ca-2018-01.csv     \b\b\b\b 72%\b\b\b\b 73%\b\b\b\b 74%\b\b\b\b 75%\b\b\b\b\b  OK \n",
            "Extracting  /content/projeto/gasolina/Projeto Analise Gasolina/ca-2018-02.csv     \b\b\b\b 75%\b\b\b\b 76%\b\b\b\b 77%\b\b\b\b 78%\b\b\b\b 79%\b\b\b\b\b  OK \n",
            "Extracting  /content/projeto/gasolina/Projeto Analise Gasolina/ca-2019-01.csv     \b\b\b\b 79%\b\b\b\b 80%\b\b\b\b 81%\b\b\b\b 82%\b\b\b\b 83%\b\b\b\b\b  OK \n",
            "Extracting  /content/projeto/gasolina/Projeto Analise Gasolina/ca-2019-02.csv     \b\b\b\b 83%\b\b\b\b 84%\b\b\b\b 85%\b\b\b\b 86%\b\b\b\b 87%\b\b\b\b\b  OK \n",
            "Extracting  /content/projeto/gasolina/Projeto Analise Gasolina/ca-2020-01.csv     \b\b\b\b 87%\b\b\b\b 88%\b\b\b\b 89%\b\b\b\b 90%\b\b\b\b 91%\b\b\b\b\b  OK \n",
            "Extracting  /content/projeto/gasolina/Projeto Analise Gasolina/ca-2020-02.csv     \b\b\b\b 91%\b\b\b\b 92%\b\b\b\b 93%\b\b\b\b\b  OK \n",
            "Extracting  /content/projeto/gasolina/Projeto Analise Gasolina/ca-2021-02.csv     \b\b\b\b 93%\b\b\b\b 94%\b\b\b\b 95%\b\b\b\b 96%\b\b\b\b 97%\b\b\b\b\b  OK \n",
            "Extracting  /content/projeto/gasolina/Projeto Analise Gasolina/precos-gasolina-etanol-01.csv     \b\b\b\b 97%\b\b\b\b\b  OK \n",
            "Extracting  /content/projeto/gasolina/Projeto Analise Gasolina/precos-gasolina-etanol-02.csv     \b\b\b\b 97%\b\b\b\b 98%\b\b\b\b\b  OK \n",
            "Extracting  /content/projeto/gasolina/Projeto Analise Gasolina/precos-gasolina-etanol-03.csv     \b\b\b\b 98%\b\b\b\b\b  OK \n",
            "Extracting  /content/projeto/gasolina/Projeto Analise Gasolina/precos-gasolina-etanol-04.csv     \b\b\b\b 98%\b\b\b\b 99%\b\b\b\b\b  OK \n",
            "Extracting  /content/projeto/gasolina/Projeto Analise Gasolina/precos-gasolina-etanol-05.csv     \b\b\b\b 99%\b\b\b\b\b  OK \n",
            "All OK\n"
          ]
        }
      ],
      "source": [
        "!unrar x -Y \"/content/Projeto Analise Gasolina.rar\" \"/content/projeto/gasolina/\"\n",
        "\n"
      ]
    },
    {
      "cell_type": "code",
      "source": [
        "from os import listdir\n",
        "\n",
        "def find_csv_filenames( path_to_dir, suffix=\".csv\" ):\n",
        "    filenames = listdir(path_to_dir)\n",
        "    return [ filename for filename in filenames if filename.endswith( suffix ) ]\n"
      ],
      "metadata": {
        "id": "zaldRbkXE2-4"
      },
      "execution_count": null,
      "outputs": []
    },
    {
      "cell_type": "code",
      "source": [
        "files = find_csv_filenames(\"/content/projeto/gasolina/Projeto Analise Gasolina/\")"
      ],
      "metadata": {
        "id": "jOYCKvUiFhwW"
      },
      "execution_count": null,
      "outputs": []
    },
    {
      "cell_type": "code",
      "source": [
        "files =sorted(files)"
      ],
      "metadata": {
        "id": "f92G1zEyGsQl"
      },
      "execution_count": null,
      "outputs": []
    },
    {
      "cell_type": "code",
      "source": [
        "files "
      ],
      "metadata": {
        "colab": {
          "base_uri": "https://localhost:8080/"
        },
        "id": "K27G7dclLWH0",
        "outputId": "e50748f0-7ac0-43cb-ea06-ef9f3bdf6e16"
      },
      "execution_count": null,
      "outputs": [
        {
          "output_type": "execute_result",
          "data": {
            "text/plain": [
              "['ca-2012-01.csv',\n",
              " 'ca-2012-02.csv',\n",
              " 'ca-2013-01.csv',\n",
              " 'ca-2013-02.csv',\n",
              " 'ca-2014-01.csv',\n",
              " 'ca-2014-02.csv',\n",
              " 'ca-2015-01.csv',\n",
              " 'ca-2015-02.csv',\n",
              " 'ca-2016-01.csv',\n",
              " 'ca-2016-02.csv',\n",
              " 'ca-2017-01.csv',\n",
              " 'ca-2017-02.csv',\n",
              " 'ca-2018-01.csv',\n",
              " 'ca-2018-02.csv',\n",
              " 'ca-2019-01.csv',\n",
              " 'ca-2019-02.csv',\n",
              " 'ca-2020-01.csv',\n",
              " 'ca-2020-02.csv',\n",
              " 'ca-2021-01.csv',\n",
              " 'ca-2021-02.csv',\n",
              " 'precos-gasolina-etanol-01.csv',\n",
              " 'precos-gasolina-etanol-02.csv',\n",
              " 'precos-gasolina-etanol-03.csv',\n",
              " 'precos-gasolina-etanol-04.csv',\n",
              " 'precos-gasolina-etanol-05.csv']"
            ]
          },
          "metadata": {},
          "execution_count": 16
        }
      ]
    },
    {
      "cell_type": "code",
      "source": [
        "import pandas as pd"
      ],
      "metadata": {
        "id": "E517BRiMTmF0"
      },
      "execution_count": null,
      "outputs": []
    },
    {
      "cell_type": "code",
      "source": [
        "dfs = []\n",
        "for file in files :\n",
        "  fi = f\"/content/projeto/gasolina/Projeto Analise Gasolina/{file}\"\n",
        "  df = pd.read_csv(fi,delimiter =\";\" , encoding=\"latin-1\")\n",
        "  print(f\"O arquivo {file} foi colocado num dataframe com {df.shape[0]} linhas\")\n",
        "  dfs.append(df)\n",
        "\n"
      ],
      "metadata": {
        "colab": {
          "base_uri": "https://localhost:8080/"
        },
        "id": "4IRQCdffG3sC",
        "outputId": "945c94c2-fdad-4402-dc32-a9ff9a558eeb"
      },
      "execution_count": null,
      "outputs": [
        {
          "output_type": "stream",
          "name": "stdout",
          "text": [
            "O arquivo ca-2012-01.csv foi colocado num dataframe com 662246 linhas\n",
            "O arquivo ca-2012-02.csv foi colocado num dataframe com 672257 linhas\n",
            "O arquivo ca-2013-01.csv foi colocado num dataframe com 664530 linhas\n",
            "O arquivo ca-2013-02.csv foi colocado num dataframe com 699372 linhas\n",
            "O arquivo ca-2014-01.csv foi colocado num dataframe com 473636 linhas\n",
            "O arquivo ca-2014-02.csv foi colocado num dataframe com 723088 linhas\n",
            "O arquivo ca-2015-01.csv foi colocado num dataframe com 696774 linhas\n",
            "O arquivo ca-2015-02.csv foi colocado num dataframe com 410974 linhas\n",
            "O arquivo ca-2016-01.csv foi colocado num dataframe com 486897 linhas\n",
            "O arquivo ca-2016-02.csv foi colocado num dataframe com 488960 linhas\n",
            "O arquivo ca-2017-01.csv foi colocado num dataframe com 487659 linhas\n",
            "O arquivo ca-2017-02.csv foi colocado num dataframe com 300947 linhas\n",
            "O arquivo ca-2018-01.csv foi colocado num dataframe com 469833 linhas\n",
            "O arquivo ca-2018-02.csv foi colocado num dataframe com 493169 linhas\n",
            "O arquivo ca-2019-01.csv foi colocado num dataframe com 496730 linhas\n",
            "O arquivo ca-2019-02.csv foi colocado num dataframe com 507299 linhas\n",
            "O arquivo ca-2020-01.csv foi colocado num dataframe com 496663 linhas\n"
          ]
        },
        {
          "output_type": "stream",
          "name": "stderr",
          "text": [
            "/usr/local/lib/python3.7/dist-packages/IPython/core/interactiveshell.py:2882: DtypeWarning: Columns (13) have mixed types.Specify dtype option on import or set low_memory=False.\n",
            "  exec(code_obj, self.user_global_ns, self.user_ns)\n"
          ]
        },
        {
          "output_type": "stream",
          "name": "stdout",
          "text": [
            "O arquivo ca-2020-02.csv foi colocado num dataframe com 222637 linhas\n",
            "O arquivo ca-2021-01.csv foi colocado num dataframe com 334681 linhas\n",
            "O arquivo ca-2021-02.csv foi colocado num dataframe com 472856 linhas\n",
            "O arquivo precos-gasolina-etanol-01.csv foi colocado num dataframe com 52549 linhas\n",
            "O arquivo precos-gasolina-etanol-02.csv foi colocado num dataframe com 52679 linhas\n",
            "O arquivo precos-gasolina-etanol-03.csv foi colocado num dataframe com 60717 linhas\n",
            "O arquivo precos-gasolina-etanol-04.csv foi colocado num dataframe com 54960 linhas\n",
            "O arquivo precos-gasolina-etanol-05.csv foi colocado num dataframe com 63949 linhas\n"
          ]
        }
      ]
    },
    {
      "cell_type": "code",
      "source": [
        "dfs[0]"
      ],
      "metadata": {
        "id": "V4YxyGhqLFhF",
        "colab": {
          "base_uri": "https://localhost:8080/",
          "height": 956
        },
        "outputId": "93adcaa3-ebe0-4dae-e281-7af3f796c9b9"
      },
      "execution_count": null,
      "outputs": [
        {
          "output_type": "execute_result",
          "data": {
            "text/plain": [
              "       ï»¿Regiao - Sigla Estado - Sigla    Municipio  \\\n",
              "0                     SE             SP    GUARULHOS   \n",
              "1                     SE             SP    GUARULHOS   \n",
              "2                     SE             SP    GUARULHOS   \n",
              "3                     CO             DF     BRASILIA   \n",
              "4                     CO             DF     BRASILIA   \n",
              "...                  ...            ...          ...   \n",
              "662241                CO             GO   PLANALTINA   \n",
              "662242                CO             GO   PLANALTINA   \n",
              "662243                SE             MG  DIVINOPOLIS   \n",
              "662244                SE             MG  DIVINOPOLIS   \n",
              "662245                SE             MG  DIVINOPOLIS   \n",
              "\n",
              "                                                  Revenda  \\\n",
              "0                                AUTO POSTO SAKAMOTO LTDA   \n",
              "1                                AUTO POSTO SAKAMOTO LTDA   \n",
              "2                                AUTO POSTO SAKAMOTO LTDA   \n",
              "3                   GASOL COMBUSTÃVEIS AUTOMOTIVOS LTDA.   \n",
              "4                   GASOL COMBUSTÃVEIS AUTOMOTIVOS LTDA.   \n",
              "...                                                   ...   \n",
              "662241                                     RBB AUTO POSTO   \n",
              "662242                                     RBB AUTO POSTO   \n",
              "662243  COMÃRCIO DE COMBUSTÃVEIS DIVINÃPOLIS NITERÃ...   \n",
              "662244  COMÃRCIO DE COMBUSTÃVEIS DIVINÃPOLIS NITERÃ...   \n",
              "662245  COMÃRCIO DE COMBUSTÃVEIS DIVINÃPOLIS NITERÃ...   \n",
              "\n",
              "            CNPJ da Revenda                                  Nome da Rua  \\\n",
              "0        49.051.667/0001-02                     RODOVIA PRESIDENTE DUTRA   \n",
              "1        49.051.667/0001-02                     RODOVIA PRESIDENTE DUTRA   \n",
              "2        49.051.667/0001-02                     RODOVIA PRESIDENTE DUTRA   \n",
              "3        00.603.738/0001-43  QI-QUADRA INTERNA 18  LOTES 47, 49, 51 E 53   \n",
              "4        00.603.738/0001-43  QI-QUADRA INTERNA 18  LOTES 47, 49, 51 E 53   \n",
              "...                     ...                                          ...   \n",
              "662241   13.334.144/0001-26                          RUA HERMÃNIO MAURO   \n",
              "662242   13.334.144/0001-26                          RUA HERMÃNIO MAURO   \n",
              "662243   13.316.033/0001-97           AVENIDA GOVERNADOR MAGALHAES PINTO   \n",
              "662244   13.316.033/0001-97           AVENIDA GOVERNADOR MAGALHAES PINTO   \n",
              "662245   13.316.033/0001-97           AVENIDA GOVERNADOR MAGALHAES PINTO   \n",
              "\n",
              "       Numero Rua          Complemento      Bairro        Cep   Produto  \\\n",
              "0             S/N  KM 210,5-SENT SP/RJ  BONSUCESSO  07178-580  GASOLINA   \n",
              "1             S/N  KM 210,5-SENT SP/RJ  BONSUCESSO  07178-580    ETANOL   \n",
              "2             S/N  KM 210,5-SENT SP/RJ  BONSUCESSO  07178-580    DIESEL   \n",
              "3             S/N                  NaN  TAGUATINGA  72315-000  GASOLINA   \n",
              "4             S/N                  NaN  TAGUATINGA  72315-000    ETANOL   \n",
              "...           ...                  ...         ...        ...       ...   \n",
              "662241        S/N    QD. 42 LT.02 A 14   ITAPUA II  73754-142    ETANOL   \n",
              "662242        S/N    QD. 42 LT.02 A 14   ITAPUA II  73754-142    DIESEL   \n",
              "662243        788                  NaN     NITEROI  35500-220  GASOLINA   \n",
              "662244        788                  NaN     NITEROI  35500-220    ETANOL   \n",
              "662245        788                  NaN     NITEROI  35500-220    DIESEL   \n",
              "\n",
              "       Data da Coleta Valor de Venda Valor de Compra Unidade de Medida  \\\n",
              "0          03/01/2012          2,589             NaN        R$ / litro   \n",
              "1          03/01/2012          1,969             NaN        R$ / litro   \n",
              "2          03/01/2012          1,879             NaN        R$ / litro   \n",
              "3          05/01/2012           2,83             NaN        R$ / litro   \n",
              "4          05/01/2012           2,27             NaN        R$ / litro   \n",
              "...               ...            ...             ...               ...   \n",
              "662241     27/06/2012           2,09             NaN        R$ / litro   \n",
              "662242     27/06/2012            2,1             NaN        R$ / litro   \n",
              "662243     27/06/2012           2,78             NaN        R$ / litro   \n",
              "662244     27/06/2012           2,09             NaN        R$ / litro   \n",
              "662245     27/06/2012           1,99             NaN        R$ / litro   \n",
              "\n",
              "                            Bandeira  \n",
              "0       PETROBRAS DISTRIBUIDORA S.A.  \n",
              "1       PETROBRAS DISTRIBUIDORA S.A.  \n",
              "2       PETROBRAS DISTRIBUIDORA S.A.  \n",
              "3       PETROBRAS DISTRIBUIDORA S.A.  \n",
              "4       PETROBRAS DISTRIBUIDORA S.A.  \n",
              "...                              ...  \n",
              "662241                        BRANCA  \n",
              "662242                        BRANCA  \n",
              "662243                        BRANCA  \n",
              "662244                        BRANCA  \n",
              "662245                        BRANCA  \n",
              "\n",
              "[662246 rows x 16 columns]"
            ],
            "text/html": [
              "\n",
              "  <div id=\"df-8748caba-c9f1-4997-8816-af5df1be729b\">\n",
              "    <div class=\"colab-df-container\">\n",
              "      <div>\n",
              "<style scoped>\n",
              "    .dataframe tbody tr th:only-of-type {\n",
              "        vertical-align: middle;\n",
              "    }\n",
              "\n",
              "    .dataframe tbody tr th {\n",
              "        vertical-align: top;\n",
              "    }\n",
              "\n",
              "    .dataframe thead th {\n",
              "        text-align: right;\n",
              "    }\n",
              "</style>\n",
              "<table border=\"1\" class=\"dataframe\">\n",
              "  <thead>\n",
              "    <tr style=\"text-align: right;\">\n",
              "      <th></th>\n",
              "      <th>ï»¿Regiao - Sigla</th>\n",
              "      <th>Estado - Sigla</th>\n",
              "      <th>Municipio</th>\n",
              "      <th>Revenda</th>\n",
              "      <th>CNPJ da Revenda</th>\n",
              "      <th>Nome da Rua</th>\n",
              "      <th>Numero Rua</th>\n",
              "      <th>Complemento</th>\n",
              "      <th>Bairro</th>\n",
              "      <th>Cep</th>\n",
              "      <th>Produto</th>\n",
              "      <th>Data da Coleta</th>\n",
              "      <th>Valor de Venda</th>\n",
              "      <th>Valor de Compra</th>\n",
              "      <th>Unidade de Medida</th>\n",
              "      <th>Bandeira</th>\n",
              "    </tr>\n",
              "  </thead>\n",
              "  <tbody>\n",
              "    <tr>\n",
              "      <th>0</th>\n",
              "      <td>SE</td>\n",
              "      <td>SP</td>\n",
              "      <td>GUARULHOS</td>\n",
              "      <td>AUTO POSTO SAKAMOTO LTDA</td>\n",
              "      <td>49.051.667/0001-02</td>\n",
              "      <td>RODOVIA PRESIDENTE DUTRA</td>\n",
              "      <td>S/N</td>\n",
              "      <td>KM 210,5-SENT SP/RJ</td>\n",
              "      <td>BONSUCESSO</td>\n",
              "      <td>07178-580</td>\n",
              "      <td>GASOLINA</td>\n",
              "      <td>03/01/2012</td>\n",
              "      <td>2,589</td>\n",
              "      <td>NaN</td>\n",
              "      <td>R$ / litro</td>\n",
              "      <td>PETROBRAS DISTRIBUIDORA S.A.</td>\n",
              "    </tr>\n",
              "    <tr>\n",
              "      <th>1</th>\n",
              "      <td>SE</td>\n",
              "      <td>SP</td>\n",
              "      <td>GUARULHOS</td>\n",
              "      <td>AUTO POSTO SAKAMOTO LTDA</td>\n",
              "      <td>49.051.667/0001-02</td>\n",
              "      <td>RODOVIA PRESIDENTE DUTRA</td>\n",
              "      <td>S/N</td>\n",
              "      <td>KM 210,5-SENT SP/RJ</td>\n",
              "      <td>BONSUCESSO</td>\n",
              "      <td>07178-580</td>\n",
              "      <td>ETANOL</td>\n",
              "      <td>03/01/2012</td>\n",
              "      <td>1,969</td>\n",
              "      <td>NaN</td>\n",
              "      <td>R$ / litro</td>\n",
              "      <td>PETROBRAS DISTRIBUIDORA S.A.</td>\n",
              "    </tr>\n",
              "    <tr>\n",
              "      <th>2</th>\n",
              "      <td>SE</td>\n",
              "      <td>SP</td>\n",
              "      <td>GUARULHOS</td>\n",
              "      <td>AUTO POSTO SAKAMOTO LTDA</td>\n",
              "      <td>49.051.667/0001-02</td>\n",
              "      <td>RODOVIA PRESIDENTE DUTRA</td>\n",
              "      <td>S/N</td>\n",
              "      <td>KM 210,5-SENT SP/RJ</td>\n",
              "      <td>BONSUCESSO</td>\n",
              "      <td>07178-580</td>\n",
              "      <td>DIESEL</td>\n",
              "      <td>03/01/2012</td>\n",
              "      <td>1,879</td>\n",
              "      <td>NaN</td>\n",
              "      <td>R$ / litro</td>\n",
              "      <td>PETROBRAS DISTRIBUIDORA S.A.</td>\n",
              "    </tr>\n",
              "    <tr>\n",
              "      <th>3</th>\n",
              "      <td>CO</td>\n",
              "      <td>DF</td>\n",
              "      <td>BRASILIA</td>\n",
              "      <td>GASOL COMBUSTÃVEIS AUTOMOTIVOS LTDA.</td>\n",
              "      <td>00.603.738/0001-43</td>\n",
              "      <td>QI-QUADRA INTERNA 18  LOTES 47, 49, 51 E 53</td>\n",
              "      <td>S/N</td>\n",
              "      <td>NaN</td>\n",
              "      <td>TAGUATINGA</td>\n",
              "      <td>72315-000</td>\n",
              "      <td>GASOLINA</td>\n",
              "      <td>05/01/2012</td>\n",
              "      <td>2,83</td>\n",
              "      <td>NaN</td>\n",
              "      <td>R$ / litro</td>\n",
              "      <td>PETROBRAS DISTRIBUIDORA S.A.</td>\n",
              "    </tr>\n",
              "    <tr>\n",
              "      <th>4</th>\n",
              "      <td>CO</td>\n",
              "      <td>DF</td>\n",
              "      <td>BRASILIA</td>\n",
              "      <td>GASOL COMBUSTÃVEIS AUTOMOTIVOS LTDA.</td>\n",
              "      <td>00.603.738/0001-43</td>\n",
              "      <td>QI-QUADRA INTERNA 18  LOTES 47, 49, 51 E 53</td>\n",
              "      <td>S/N</td>\n",
              "      <td>NaN</td>\n",
              "      <td>TAGUATINGA</td>\n",
              "      <td>72315-000</td>\n",
              "      <td>ETANOL</td>\n",
              "      <td>05/01/2012</td>\n",
              "      <td>2,27</td>\n",
              "      <td>NaN</td>\n",
              "      <td>R$ / litro</td>\n",
              "      <td>PETROBRAS DISTRIBUIDORA S.A.</td>\n",
              "    </tr>\n",
              "    <tr>\n",
              "      <th>...</th>\n",
              "      <td>...</td>\n",
              "      <td>...</td>\n",
              "      <td>...</td>\n",
              "      <td>...</td>\n",
              "      <td>...</td>\n",
              "      <td>...</td>\n",
              "      <td>...</td>\n",
              "      <td>...</td>\n",
              "      <td>...</td>\n",
              "      <td>...</td>\n",
              "      <td>...</td>\n",
              "      <td>...</td>\n",
              "      <td>...</td>\n",
              "      <td>...</td>\n",
              "      <td>...</td>\n",
              "      <td>...</td>\n",
              "    </tr>\n",
              "    <tr>\n",
              "      <th>662241</th>\n",
              "      <td>CO</td>\n",
              "      <td>GO</td>\n",
              "      <td>PLANALTINA</td>\n",
              "      <td>RBB AUTO POSTO</td>\n",
              "      <td>13.334.144/0001-26</td>\n",
              "      <td>RUA HERMÃNIO MAURO</td>\n",
              "      <td>S/N</td>\n",
              "      <td>QD. 42 LT.02 A 14</td>\n",
              "      <td>ITAPUA II</td>\n",
              "      <td>73754-142</td>\n",
              "      <td>ETANOL</td>\n",
              "      <td>27/06/2012</td>\n",
              "      <td>2,09</td>\n",
              "      <td>NaN</td>\n",
              "      <td>R$ / litro</td>\n",
              "      <td>BRANCA</td>\n",
              "    </tr>\n",
              "    <tr>\n",
              "      <th>662242</th>\n",
              "      <td>CO</td>\n",
              "      <td>GO</td>\n",
              "      <td>PLANALTINA</td>\n",
              "      <td>RBB AUTO POSTO</td>\n",
              "      <td>13.334.144/0001-26</td>\n",
              "      <td>RUA HERMÃNIO MAURO</td>\n",
              "      <td>S/N</td>\n",
              "      <td>QD. 42 LT.02 A 14</td>\n",
              "      <td>ITAPUA II</td>\n",
              "      <td>73754-142</td>\n",
              "      <td>DIESEL</td>\n",
              "      <td>27/06/2012</td>\n",
              "      <td>2,1</td>\n",
              "      <td>NaN</td>\n",
              "      <td>R$ / litro</td>\n",
              "      <td>BRANCA</td>\n",
              "    </tr>\n",
              "    <tr>\n",
              "      <th>662243</th>\n",
              "      <td>SE</td>\n",
              "      <td>MG</td>\n",
              "      <td>DIVINOPOLIS</td>\n",
              "      <td>COMÃRCIO DE COMBUSTÃVEIS DIVINÃPOLIS NITERÃ...</td>\n",
              "      <td>13.316.033/0001-97</td>\n",
              "      <td>AVENIDA GOVERNADOR MAGALHAES PINTO</td>\n",
              "      <td>788</td>\n",
              "      <td>NaN</td>\n",
              "      <td>NITEROI</td>\n",
              "      <td>35500-220</td>\n",
              "      <td>GASOLINA</td>\n",
              "      <td>27/06/2012</td>\n",
              "      <td>2,78</td>\n",
              "      <td>NaN</td>\n",
              "      <td>R$ / litro</td>\n",
              "      <td>BRANCA</td>\n",
              "    </tr>\n",
              "    <tr>\n",
              "      <th>662244</th>\n",
              "      <td>SE</td>\n",
              "      <td>MG</td>\n",
              "      <td>DIVINOPOLIS</td>\n",
              "      <td>COMÃRCIO DE COMBUSTÃVEIS DIVINÃPOLIS NITERÃ...</td>\n",
              "      <td>13.316.033/0001-97</td>\n",
              "      <td>AVENIDA GOVERNADOR MAGALHAES PINTO</td>\n",
              "      <td>788</td>\n",
              "      <td>NaN</td>\n",
              "      <td>NITEROI</td>\n",
              "      <td>35500-220</td>\n",
              "      <td>ETANOL</td>\n",
              "      <td>27/06/2012</td>\n",
              "      <td>2,09</td>\n",
              "      <td>NaN</td>\n",
              "      <td>R$ / litro</td>\n",
              "      <td>BRANCA</td>\n",
              "    </tr>\n",
              "    <tr>\n",
              "      <th>662245</th>\n",
              "      <td>SE</td>\n",
              "      <td>MG</td>\n",
              "      <td>DIVINOPOLIS</td>\n",
              "      <td>COMÃRCIO DE COMBUSTÃVEIS DIVINÃPOLIS NITERÃ...</td>\n",
              "      <td>13.316.033/0001-97</td>\n",
              "      <td>AVENIDA GOVERNADOR MAGALHAES PINTO</td>\n",
              "      <td>788</td>\n",
              "      <td>NaN</td>\n",
              "      <td>NITEROI</td>\n",
              "      <td>35500-220</td>\n",
              "      <td>DIESEL</td>\n",
              "      <td>27/06/2012</td>\n",
              "      <td>1,99</td>\n",
              "      <td>NaN</td>\n",
              "      <td>R$ / litro</td>\n",
              "      <td>BRANCA</td>\n",
              "    </tr>\n",
              "  </tbody>\n",
              "</table>\n",
              "<p>662246 rows × 16 columns</p>\n",
              "</div>\n",
              "      <button class=\"colab-df-convert\" onclick=\"convertToInteractive('df-8748caba-c9f1-4997-8816-af5df1be729b')\"\n",
              "              title=\"Convert this dataframe to an interactive table.\"\n",
              "              style=\"display:none;\">\n",
              "        \n",
              "  <svg xmlns=\"http://www.w3.org/2000/svg\" height=\"24px\"viewBox=\"0 0 24 24\"\n",
              "       width=\"24px\">\n",
              "    <path d=\"M0 0h24v24H0V0z\" fill=\"none\"/>\n",
              "    <path d=\"M18.56 5.44l.94 2.06.94-2.06 2.06-.94-2.06-.94-.94-2.06-.94 2.06-2.06.94zm-11 1L8.5 8.5l.94-2.06 2.06-.94-2.06-.94L8.5 2.5l-.94 2.06-2.06.94zm10 10l.94 2.06.94-2.06 2.06-.94-2.06-.94-.94-2.06-.94 2.06-2.06.94z\"/><path d=\"M17.41 7.96l-1.37-1.37c-.4-.4-.92-.59-1.43-.59-.52 0-1.04.2-1.43.59L10.3 9.45l-7.72 7.72c-.78.78-.78 2.05 0 2.83L4 21.41c.39.39.9.59 1.41.59.51 0 1.02-.2 1.41-.59l7.78-7.78 2.81-2.81c.8-.78.8-2.07 0-2.86zM5.41 20L4 18.59l7.72-7.72 1.47 1.35L5.41 20z\"/>\n",
              "  </svg>\n",
              "      </button>\n",
              "      \n",
              "  <style>\n",
              "    .colab-df-container {\n",
              "      display:flex;\n",
              "      flex-wrap:wrap;\n",
              "      gap: 12px;\n",
              "    }\n",
              "\n",
              "    .colab-df-convert {\n",
              "      background-color: #E8F0FE;\n",
              "      border: none;\n",
              "      border-radius: 50%;\n",
              "      cursor: pointer;\n",
              "      display: none;\n",
              "      fill: #1967D2;\n",
              "      height: 32px;\n",
              "      padding: 0 0 0 0;\n",
              "      width: 32px;\n",
              "    }\n",
              "\n",
              "    .colab-df-convert:hover {\n",
              "      background-color: #E2EBFA;\n",
              "      box-shadow: 0px 1px 2px rgba(60, 64, 67, 0.3), 0px 1px 3px 1px rgba(60, 64, 67, 0.15);\n",
              "      fill: #174EA6;\n",
              "    }\n",
              "\n",
              "    [theme=dark] .colab-df-convert {\n",
              "      background-color: #3B4455;\n",
              "      fill: #D2E3FC;\n",
              "    }\n",
              "\n",
              "    [theme=dark] .colab-df-convert:hover {\n",
              "      background-color: #434B5C;\n",
              "      box-shadow: 0px 1px 3px 1px rgba(0, 0, 0, 0.15);\n",
              "      filter: drop-shadow(0px 1px 2px rgba(0, 0, 0, 0.3));\n",
              "      fill: #FFFFFF;\n",
              "    }\n",
              "  </style>\n",
              "\n",
              "      <script>\n",
              "        const buttonEl =\n",
              "          document.querySelector('#df-8748caba-c9f1-4997-8816-af5df1be729b button.colab-df-convert');\n",
              "        buttonEl.style.display =\n",
              "          google.colab.kernel.accessAllowed ? 'block' : 'none';\n",
              "\n",
              "        async function convertToInteractive(key) {\n",
              "          const element = document.querySelector('#df-8748caba-c9f1-4997-8816-af5df1be729b');\n",
              "          const dataTable =\n",
              "            await google.colab.kernel.invokeFunction('convertToInteractive',\n",
              "                                                     [key], {});\n",
              "          if (!dataTable) return;\n",
              "\n",
              "          const docLinkHtml = 'Like what you see? Visit the ' +\n",
              "            '<a target=\"_blank\" href=https://colab.research.google.com/notebooks/data_table.ipynb>data table notebook</a>'\n",
              "            + ' to learn more about interactive tables.';\n",
              "          element.innerHTML = '';\n",
              "          dataTable['output_type'] = 'display_data';\n",
              "          await google.colab.output.renderOutput(dataTable, element);\n",
              "          const docLink = document.createElement('div');\n",
              "          docLink.innerHTML = docLinkHtml;\n",
              "          element.appendChild(docLink);\n",
              "        }\n",
              "      </script>\n",
              "    </div>\n",
              "  </div>\n",
              "  "
            ]
          },
          "metadata": {},
          "execution_count": 24
        }
      ]
    },
    {
      "cell_type": "code",
      "source": [
        "df = pd.concat(dfs)\n"
      ],
      "metadata": {
        "id": "IsirotlJIEqT"
      },
      "execution_count": null,
      "outputs": []
    },
    {
      "cell_type": "code",
      "source": [
        "df.shape"
      ],
      "metadata": {
        "colab": {
          "base_uri": "https://localhost:8080/"
        },
        "id": "zTd2HOJkIIr5",
        "outputId": "d41f6258-305b-4e35-9dde-d2e29fb1f3e7"
      },
      "execution_count": null,
      "outputs": [
        {
          "output_type": "execute_result",
          "data": {
            "text/plain": [
              "(10546062, 17)"
            ]
          },
          "metadata": {},
          "execution_count": 26
        }
      ]
    },
    {
      "cell_type": "code",
      "source": [
        "df.replace(\"ETANO\",\"ETANOL\",inplace = True)"
      ],
      "metadata": {
        "id": "q2wn8YtOL7J-"
      },
      "execution_count": null,
      "outputs": []
    },
    {
      "cell_type": "code",
      "source": [
        "etanol = df[\"Produto\"] == \"ETANOL\"\n",
        "gasolina = df[\"Produto\"] == \"GASOLINA\"\n",
        "filter = gasolina | etanol"
      ],
      "metadata": {
        "id": "-OzzjSffMSgH"
      },
      "execution_count": null,
      "outputs": []
    },
    {
      "cell_type": "code",
      "source": [
        "df = df[filter]"
      ],
      "metadata": {
        "id": "k4NrBzIdNXqs"
      },
      "execution_count": null,
      "outputs": []
    },
    {
      "cell_type": "code",
      "source": [
        "df.shape"
      ],
      "metadata": {
        "colab": {
          "base_uri": "https://localhost:8080/"
        },
        "id": "z0R0qGNVNKP8",
        "outputId": "32b2fb70-cec2-4563-d138-20f51ddeaca2"
      },
      "execution_count": null,
      "outputs": [
        {
          "output_type": "execute_result",
          "data": {
            "text/plain": [
              "(6295653, 17)"
            ]
          },
          "metadata": {},
          "execution_count": 30
        }
      ]
    },
    {
      "cell_type": "code",
      "source": [
        "df.to_csv(\"julia.csv\",index = False)"
      ],
      "metadata": {
        "id": "6wgcMQqtIa1g"
      },
      "execution_count": null,
      "outputs": []
    },
    {
      "cell_type": "code",
      "source": [
        "print(df.shape)"
      ],
      "metadata": {
        "colab": {
          "base_uri": "https://localhost:8080/"
        },
        "id": "ISAesfI9hXB9",
        "outputId": "fe6b9b61-cfa4-40f2-c452-1fb8c7d5c7d3"
      },
      "execution_count": null,
      "outputs": [
        {
          "output_type": "stream",
          "name": "stdout",
          "text": [
            "(6295653, 17)\n"
          ]
        }
      ]
    },
    {
      "cell_type": "code",
      "source": [
        "df_1 = df.drop_duplicates()\n",
        "df_1.shape"
      ],
      "metadata": {
        "colab": {
          "base_uri": "https://localhost:8080/"
        },
        "id": "wvrvil7_hcA-",
        "outputId": "e9337660-3fca-48d5-93b5-0d6fa919041f"
      },
      "execution_count": null,
      "outputs": [
        {
          "output_type": "execute_result",
          "data": {
            "text/plain": [
              "(6295653, 17)"
            ]
          },
          "metadata": {},
          "execution_count": 33
        }
      ]
    }
  ]
}